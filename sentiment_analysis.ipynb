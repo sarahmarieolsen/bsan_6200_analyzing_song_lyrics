{
  "nbformat": 4,
  "nbformat_minor": 0,
  "metadata": {
    "colab": {
      "name": "6200project_MachineLearningSentiment.ipynb",
      "provenance": [],
      "collapsed_sections": []
    },
    "kernelspec": {
      "name": "python3",
      "display_name": "Python 3"
    },
    "language_info": {
      "name": "python"
    }
  },
  "cells": [
    {
      "cell_type": "code",
      "source": [
        "#plotting\n",
        "import matplotlib.pyplot as plt\n",
        "import seaborn as sns\n",
        "import plotly.express as px"
      ],
      "metadata": {
        "id": "5eb4CifXujwi"
      },
      "execution_count": 4,
      "outputs": []
    },
    {
      "cell_type": "code",
      "execution_count": 24,
      "metadata": {
        "id": "9lWhq0YHFxK1",
        "colab": {
          "base_uri": "https://localhost:8080/"
        },
        "outputId": "2306cfca-4cde-4404-e777-9a1964cf630f"
      },
      "outputs": [
        {
          "output_type": "execute_result",
          "data": {
            "text/plain": [
              "(418, 10)"
            ]
          },
          "metadata": {},
          "execution_count": 24
        }
      ],
      "source": [
        "import pandas as pd\n",
        "\n",
        "data = pd.read_csv('/content/Final_Lyrics_Data_Clean.csv')\n",
        "data.shape"
      ]
    },
    {
      "cell_type": "code",
      "source": [
        "data.head()"
      ],
      "metadata": {
        "colab": {
          "base_uri": "https://localhost:8080/",
          "height": 206
        },
        "id": "UR9Q9fvgGB0l",
        "outputId": "82e3614a-a2e3-45d4-baad-9210994a838d"
      },
      "execution_count": 6,
      "outputs": [
        {
          "output_type": "execute_result",
          "data": {
            "text/plain": [
              "                     Title          Artist Views Genre  Rock  Country  Pop  \\\n",
              "0                      212   Azealia Banks  3.6M   Rap     0        0    0   \n",
              "1                      505  Arctic Monkeys  1.5M  Rock     1        0    0   \n",
              "2                      679       Fetty Wap  4.2M   Rap     0        0    0   \n",
              "3  0 to 100 / The Catch Up           Drake  3.7M   Rap     0        0    0   \n",
              "4           1-800-273-8255           Logic    8M   Rap     0        0    0   \n",
              "\n",
              "   R&B  Rap                                             Lyrics  \n",
              "0    0    1   Hey, I can be the answer I’m ready to dance w...  \n",
              "1    0    0   Im going back to 505 If its a seven-hour flig...  \n",
              "2    0    1     Yeaaah baby, 17 (RemyBoy Lifestyle) Ay, ay,...  \n",
              "3    0    1     Fuck bein on some chill shit We go 0 to 100...  \n",
              "4    0    1   Ive been on the low, I been taking my time I ...  "
            ],
            "text/html": [
              "\n",
              "  <div id=\"df-afce5077-4d67-4bd7-a0ca-1846abcf15bc\">\n",
              "    <div class=\"colab-df-container\">\n",
              "      <div>\n",
              "<style scoped>\n",
              "    .dataframe tbody tr th:only-of-type {\n",
              "        vertical-align: middle;\n",
              "    }\n",
              "\n",
              "    .dataframe tbody tr th {\n",
              "        vertical-align: top;\n",
              "    }\n",
              "\n",
              "    .dataframe thead th {\n",
              "        text-align: right;\n",
              "    }\n",
              "</style>\n",
              "<table border=\"1\" class=\"dataframe\">\n",
              "  <thead>\n",
              "    <tr style=\"text-align: right;\">\n",
              "      <th></th>\n",
              "      <th>Title</th>\n",
              "      <th>Artist</th>\n",
              "      <th>Views</th>\n",
              "      <th>Genre</th>\n",
              "      <th>Rock</th>\n",
              "      <th>Country</th>\n",
              "      <th>Pop</th>\n",
              "      <th>R&amp;B</th>\n",
              "      <th>Rap</th>\n",
              "      <th>Lyrics</th>\n",
              "    </tr>\n",
              "  </thead>\n",
              "  <tbody>\n",
              "    <tr>\n",
              "      <th>0</th>\n",
              "      <td>212</td>\n",
              "      <td>Azealia Banks</td>\n",
              "      <td>3.6M</td>\n",
              "      <td>Rap</td>\n",
              "      <td>0</td>\n",
              "      <td>0</td>\n",
              "      <td>0</td>\n",
              "      <td>0</td>\n",
              "      <td>1</td>\n",
              "      <td>Hey, I can be the answer I’m ready to dance w...</td>\n",
              "    </tr>\n",
              "    <tr>\n",
              "      <th>1</th>\n",
              "      <td>505</td>\n",
              "      <td>Arctic Monkeys</td>\n",
              "      <td>1.5M</td>\n",
              "      <td>Rock</td>\n",
              "      <td>1</td>\n",
              "      <td>0</td>\n",
              "      <td>0</td>\n",
              "      <td>0</td>\n",
              "      <td>0</td>\n",
              "      <td>Im going back to 505 If its a seven-hour flig...</td>\n",
              "    </tr>\n",
              "    <tr>\n",
              "      <th>2</th>\n",
              "      <td>679</td>\n",
              "      <td>Fetty Wap</td>\n",
              "      <td>4.2M</td>\n",
              "      <td>Rap</td>\n",
              "      <td>0</td>\n",
              "      <td>0</td>\n",
              "      <td>0</td>\n",
              "      <td>0</td>\n",
              "      <td>1</td>\n",
              "      <td>Yeaaah baby, 17 (RemyBoy Lifestyle) Ay, ay,...</td>\n",
              "    </tr>\n",
              "    <tr>\n",
              "      <th>3</th>\n",
              "      <td>0 to 100 / The Catch Up</td>\n",
              "      <td>Drake</td>\n",
              "      <td>3.7M</td>\n",
              "      <td>Rap</td>\n",
              "      <td>0</td>\n",
              "      <td>0</td>\n",
              "      <td>0</td>\n",
              "      <td>0</td>\n",
              "      <td>1</td>\n",
              "      <td>Fuck bein on some chill shit We go 0 to 100...</td>\n",
              "    </tr>\n",
              "    <tr>\n",
              "      <th>4</th>\n",
              "      <td>1-800-273-8255</td>\n",
              "      <td>Logic</td>\n",
              "      <td>8M</td>\n",
              "      <td>Rap</td>\n",
              "      <td>0</td>\n",
              "      <td>0</td>\n",
              "      <td>0</td>\n",
              "      <td>0</td>\n",
              "      <td>1</td>\n",
              "      <td>Ive been on the low, I been taking my time I ...</td>\n",
              "    </tr>\n",
              "  </tbody>\n",
              "</table>\n",
              "</div>\n",
              "      <button class=\"colab-df-convert\" onclick=\"convertToInteractive('df-afce5077-4d67-4bd7-a0ca-1846abcf15bc')\"\n",
              "              title=\"Convert this dataframe to an interactive table.\"\n",
              "              style=\"display:none;\">\n",
              "        \n",
              "  <svg xmlns=\"http://www.w3.org/2000/svg\" height=\"24px\"viewBox=\"0 0 24 24\"\n",
              "       width=\"24px\">\n",
              "    <path d=\"M0 0h24v24H0V0z\" fill=\"none\"/>\n",
              "    <path d=\"M18.56 5.44l.94 2.06.94-2.06 2.06-.94-2.06-.94-.94-2.06-.94 2.06-2.06.94zm-11 1L8.5 8.5l.94-2.06 2.06-.94-2.06-.94L8.5 2.5l-.94 2.06-2.06.94zm10 10l.94 2.06.94-2.06 2.06-.94-2.06-.94-.94-2.06-.94 2.06-2.06.94z\"/><path d=\"M17.41 7.96l-1.37-1.37c-.4-.4-.92-.59-1.43-.59-.52 0-1.04.2-1.43.59L10.3 9.45l-7.72 7.72c-.78.78-.78 2.05 0 2.83L4 21.41c.39.39.9.59 1.41.59.51 0 1.02-.2 1.41-.59l7.78-7.78 2.81-2.81c.8-.78.8-2.07 0-2.86zM5.41 20L4 18.59l7.72-7.72 1.47 1.35L5.41 20z\"/>\n",
              "  </svg>\n",
              "      </button>\n",
              "      \n",
              "  <style>\n",
              "    .colab-df-container {\n",
              "      display:flex;\n",
              "      flex-wrap:wrap;\n",
              "      gap: 12px;\n",
              "    }\n",
              "\n",
              "    .colab-df-convert {\n",
              "      background-color: #E8F0FE;\n",
              "      border: none;\n",
              "      border-radius: 50%;\n",
              "      cursor: pointer;\n",
              "      display: none;\n",
              "      fill: #1967D2;\n",
              "      height: 32px;\n",
              "      padding: 0 0 0 0;\n",
              "      width: 32px;\n",
              "    }\n",
              "\n",
              "    .colab-df-convert:hover {\n",
              "      background-color: #E2EBFA;\n",
              "      box-shadow: 0px 1px 2px rgba(60, 64, 67, 0.3), 0px 1px 3px 1px rgba(60, 64, 67, 0.15);\n",
              "      fill: #174EA6;\n",
              "    }\n",
              "\n",
              "    [theme=dark] .colab-df-convert {\n",
              "      background-color: #3B4455;\n",
              "      fill: #D2E3FC;\n",
              "    }\n",
              "\n",
              "    [theme=dark] .colab-df-convert:hover {\n",
              "      background-color: #434B5C;\n",
              "      box-shadow: 0px 1px 3px 1px rgba(0, 0, 0, 0.15);\n",
              "      filter: drop-shadow(0px 1px 2px rgba(0, 0, 0, 0.3));\n",
              "      fill: #FFFFFF;\n",
              "    }\n",
              "  </style>\n",
              "\n",
              "      <script>\n",
              "        const buttonEl =\n",
              "          document.querySelector('#df-afce5077-4d67-4bd7-a0ca-1846abcf15bc button.colab-df-convert');\n",
              "        buttonEl.style.display =\n",
              "          google.colab.kernel.accessAllowed ? 'block' : 'none';\n",
              "\n",
              "        async function convertToInteractive(key) {\n",
              "          const element = document.querySelector('#df-afce5077-4d67-4bd7-a0ca-1846abcf15bc');\n",
              "          const dataTable =\n",
              "            await google.colab.kernel.invokeFunction('convertToInteractive',\n",
              "                                                     [key], {});\n",
              "          if (!dataTable) return;\n",
              "\n",
              "          const docLinkHtml = 'Like what you see? Visit the ' +\n",
              "            '<a target=\"_blank\" href=https://colab.research.google.com/notebooks/data_table.ipynb>data table notebook</a>'\n",
              "            + ' to learn more about interactive tables.';\n",
              "          element.innerHTML = '';\n",
              "          dataTable['output_type'] = 'display_data';\n",
              "          await google.colab.output.renderOutput(dataTable, element);\n",
              "          const docLink = document.createElement('div');\n",
              "          docLink.innerHTML = docLinkHtml;\n",
              "          element.appendChild(docLink);\n",
              "        }\n",
              "      </script>\n",
              "    </div>\n",
              "  </div>\n",
              "  "
            ]
          },
          "metadata": {},
          "execution_count": 6
        }
      ]
    },
    {
      "cell_type": "code",
      "source": [
        "#function to get sentiment of each song's lyrics\n",
        "from textblob import TextBlob\n",
        "def get_polarity(text):\n",
        "    return TextBlob(text).polarity\n",
        "data['Polarity'] = data.Lyrics.apply(get_polarity)"
      ],
      "metadata": {
        "id": "BONplqsHpl-N"
      },
      "execution_count": 7,
      "outputs": []
    },
    {
      "cell_type": "code",
      "source": [
        "import numpy as np\n",
        "# create new column for positive or negative sentiment\n",
        "data['pos_neg'] = np.where(data['Polarity'] > 0, 1, 0)"
      ],
      "metadata": {
        "id": "ZUbeCXCOpmCq"
      },
      "execution_count": 8,
      "outputs": []
    },
    {
      "cell_type": "code",
      "source": [
        "data.groupby(['Genre']).mean()['Polarity']"
      ],
      "metadata": {
        "colab": {
          "base_uri": "https://localhost:8080/"
        },
        "id": "OMbpPx61NrR9",
        "outputId": "c8acda03-28e1-4d6d-d888-8627e5f32073"
      },
      "execution_count": 17,
      "outputs": [
        {
          "output_type": "execute_result",
          "data": {
            "text/plain": [
              "Genre\n",
              "Country    0.072947\n",
              "Pop        0.082111\n",
              "R&B        0.070789\n",
              "Rap       -0.006348\n",
              "Rock       0.040430\n",
              "Name: Polarity, dtype: float64"
            ]
          },
          "metadata": {},
          "execution_count": 17
        }
      ]
    },
    {
      "cell_type": "code",
      "source": [
        "#Grouping Sentiment by Genre\n",
        "data.groupby(['Genre']).mean()['Polarity'].plot(kind = 'bar')\n"
      ],
      "metadata": {
        "colab": {
          "base_uri": "https://localhost:8080/",
          "height": 326
        },
        "id": "9pTjiQdJthYb",
        "outputId": "fd3ae27f-53d0-4e16-8131-b02513d87a12"
      },
      "execution_count": 9,
      "outputs": [
        {
          "output_type": "execute_result",
          "data": {
            "text/plain": [
              "<matplotlib.axes._subplots.AxesSubplot at 0x7f34c6fd9710>"
            ]
          },
          "metadata": {},
          "execution_count": 9
        },
        {
          "output_type": "display_data",
          "data": {
            "text/plain": [
              "<Figure size 432x288 with 1 Axes>"
            ],
            "image/png": "[encoded data removed]"
          },
          "metadata": {
            "needs_background": "light"
          }
        }
      ]
    },
    {
      "cell_type": "code",
      "source": [
        "#test balance of target variable, does not appear to be too imbalanced\n",
        "#due to small dataset size, we should not sample\n",
        "data.pos_neg.value_counts()"
      ],
      "metadata": {
        "colab": {
          "base_uri": "https://localhost:8080/"
        },
        "id": "GU-bKlmkp_03",
        "outputId": "b0a6b2e8-5596-449e-89ab-e21051d8357f"
      },
      "execution_count": 10,
      "outputs": [
        {
          "output_type": "execute_result",
          "data": {
            "text/plain": [
              "1    261\n",
              "0    157\n",
              "Name: pos_neg, dtype: int64"
            ]
          },
          "metadata": {},
          "execution_count": 10
        }
      ]
    },
    {
      "cell_type": "code",
      "source": [
        "X_Data = data['Lyrics']\n",
        "y_Data = data['pos_neg']"
      ],
      "metadata": {
        "id": "f0Q7sHQRutom"
      },
      "execution_count": 11,
      "outputs": []
    },
    {
      "cell_type": "code",
      "source": [
        "#Import required Models and vectorizers\n",
        "from sklearn.linear_model import LogisticRegression\n",
        "from sklearn.naive_bayes import MultinomialNB\n",
        "from sklearn.feature_extraction.text import CountVectorizer\n",
        "from sklearn import metrics\n",
        "from sklearn.model_selection import train_test_split"
      ],
      "metadata": {
        "id": "Fw-BDPOZp_3d"
      },
      "execution_count": 12,
      "outputs": []
    },
    {
      "cell_type": "code",
      "source": [
        "X_train, X_test, y_train, y_test = train_test_split(X_Data, y_Data, test_size=0.33, random_state=4)"
      ],
      "metadata": {
        "id": "G0nvJsLYxt9r"
      },
      "execution_count": 13,
      "outputs": []
    },
    {
      "cell_type": "code",
      "source": [
        "from pandas.core.common import random_state\n",
        "clf = LogisticRegression(random_state=4, solver='newton-cg',C=1e40)\n",
        "nvb = MultinomialNB()\n",
        "cv = CountVectorizer()"
      ],
      "metadata": {
        "id": "oY77pqVBp_8a"
      },
      "execution_count": 19,
      "outputs": []
    },
    {
      "cell_type": "code",
      "source": [
        "X_train_dtm = cv.fit_transform(X_train)\n",
        "X_test_dtm = cv.transform(X_test)\n",
        "clf.fit(X_train_dtm, y_train)\n",
        "nvb.fit(X_train_dtm, y_train)"
      ],
      "metadata": {
        "colab": {
          "base_uri": "https://localhost:8080/"
        },
        "id": "tLKOblkdtCPd",
        "outputId": "9ed9f8d8-0415-4b71-ba9d-36dd4eb562eb"
      },
      "execution_count": 20,
      "outputs": [
        {
          "output_type": "execute_result",
          "data": {
            "text/plain": [
              "MultinomialNB()"
            ]
          },
          "metadata": {},
          "execution_count": 20
        }
      ]
    },
    {
      "cell_type": "code",
      "source": [
        "auc = metrics.roc_auc_score(y_test, clf.predict_proba(X_test_dtm)[:,1])\n",
        "acc = metrics.accuracy_score(y_test, clf.predict(X_test_dtm))\n",
        "f1 = metrics.f1_score(y_test, clf.predict(X_test_dtm))\n",
        "metrics.plot_roc_curve(clf,X_test_dtm, y_test)\n",
        "print('Logistic Regression')\n",
        "print('Area Under Curve:', round(auc,3))\n",
        "print('Accuracy:', round(acc,3))\n",
        "print('F1 Score:', round(f1,3))"
      ],
      "metadata": {
        "colab": {
          "base_uri": "https://localhost:8080/",
          "height": 403
        },
        "id": "J8Zg6otctCUE",
        "outputId": "8e582869-5b7e-45e1-dbec-3ad9d84a3e35"
      },
      "execution_count": 21,
      "outputs": [
        {
          "output_type": "stream",
          "name": "stderr",
          "text": [
            "/usr/local/lib/python3.7/dist-packages/sklearn/utils/deprecation.py:87: FutureWarning: Function plot_roc_curve is deprecated; Function :func:`plot_roc_curve` is deprecated in 1.0 and will be removed in 1.2. Use one of the class methods: :meth:`sklearn.metric.RocCurveDisplay.from_predictions` or :meth:`sklearn.metric.RocCurveDisplay.from_estimator`.\n",
            "  warnings.warn(msg, category=FutureWarning)\n"
          ]
        },
        {
          "output_type": "stream",
          "name": "stdout",
          "text": [
            "Logistic Regression\n",
            "Area Under Curve: 0.679\n",
            "Accuracy: 0.645\n",
            "F1 Score: 0.713\n"
          ]
        },
        {
          "output_type": "display_data",
          "data": {
            "text/plain": [
              "<Figure size 432x288 with 1 Axes>"
            ],
            "image/png": "[encoded data removed]"
          },
          "metadata": {
            "needs_background": "light"
          }
        }
      ]
    },
    {
      "cell_type": "code",
      "source": [
        "auc = metrics.roc_auc_score(y_test, nvb.predict_proba(X_test_dtm)[:,1])\n",
        "acc = metrics.accuracy_score(y_test, nvb.predict(X_test_dtm))\n",
        "f1 = metrics.f1_score(y_test, nvb.predict(X_test_dtm))\n",
        "metrics.plot_roc_curve(nvb,X_test_dtm, y_test)\n",
        "print('Naive Bayes')\n",
        "print('Area Under Curve:', round(auc,3))\n",
        "print('Accuracy:', round(acc,3))\n",
        "print('F1 Score:', round(f1,3))"
      ],
      "metadata": {
        "id": "tAQe1mRhtCaV",
        "colab": {
          "base_uri": "https://localhost:8080/",
          "height": 403
        },
        "outputId": "f7650639-8520-48dd-b3aa-050dd10d8bcb"
      },
      "execution_count": 22,
      "outputs": [
        {
          "output_type": "stream",
          "name": "stderr",
          "text": [
            "/usr/local/lib/python3.7/dist-packages/sklearn/utils/deprecation.py:87: FutureWarning: Function plot_roc_curve is deprecated; Function :func:`plot_roc_curve` is deprecated in 1.0 and will be removed in 1.2. Use one of the class methods: :meth:`sklearn.metric.RocCurveDisplay.from_predictions` or :meth:`sklearn.metric.RocCurveDisplay.from_estimator`.\n",
            "  warnings.warn(msg, category=FutureWarning)\n"
          ]
        },
        {
          "output_type": "stream",
          "name": "stdout",
          "text": [
            "Naive Bayes\n",
            "Area Under Curve: 0.675\n",
            "Accuracy: 0.703\n",
            "F1 Score: 0.783\n"
          ]
        },
        {
          "output_type": "display_data",
          "data": {
            "text/plain": [
              "<Figure size 432x288 with 1 Axes>"
            ],
            "image/png": "[encoded data removed]"
          },
          "metadata": {
            "needs_background": "light"
          }
        }
      ]
    }
  ]
}